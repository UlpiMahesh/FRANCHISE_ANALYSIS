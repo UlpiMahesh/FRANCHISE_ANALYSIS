{
 "cells": [
  {
   "cell_type": "code",
   "execution_count": 1,
   "id": "72752562-92ba-4ffb-87b9-17136d7f6d0d",
   "metadata": {},
   "outputs": [
    {
     "name": "stdout",
     "output_type": "stream",
     "text": [
      "{'Agents, Dealers & Distributors': 'https://www.franchisebazar.com//industry/agents-dealers-distributors', 'Automotive Franchise': 'https://www.franchisebazar.com//industry/automotive-franchise', 'Beauty Franchise': 'https://www.franchisebazar.com//industry/beauty-franchise', 'Beverage Franchise': 'https://www.franchisebazar.com//industry/beverage-franchise', 'Business Services Franchise': 'https://www.franchisebazar.com//industry/business-services-franchise', 'Cleaning Franchise': 'https://www.franchisebazar.com//industry/cleaning-franchise-opportunities', 'Clothing Franchise': 'https://www.franchisebazar.com//industry/clothing-franchise-opportunities', 'Computer & Internet Franchise': 'https://www.franchisebazar.com//industry/computer-internet-franchise', 'Construction Franchise': 'https://www.franchisebazar.com//industry/construction-related-franchise', 'Consultancy Franchise': 'https://www.franchisebazar.com//industry/consultancy-franchise-opportunities', 'Education Franchise': 'https://www.franchisebazar.com//industry/education-franchise-opportunities', 'Entertainment & Leisure': 'https://www.franchisebazar.com//industry/entertainment-leisure-franchise', 'Financial Service Franchise': 'https://www.franchisebazar.com//industry/financial-service-franchise', 'Fitness Franchise': 'https://www.franchisebazar.com//industry/fitness-franchise', 'Food Franchise': 'https://www.franchisebazar.com//industry/food-franchise-opportunities', 'Health Care Franchise': 'https://www.franchisebazar.com//industry/health-care-franchise', 'Hotel Franchise': 'https://www.franchisebazar.com//industry/hotel-franchise-opportunities', 'Icecream Franchise': 'https://www.franchisebazar.com//industry/icecream-franchise', 'Jewellery Franchise': 'https://www.franchisebazar.com//industry/jewellery-franchise-opportunities', 'Logistics Franchise': 'https://www.franchisebazar.com//industry/logistics-franchise', 'Manufacturing Franchise': 'https://www.franchisebazar.com//industry/manufacturing-franchise-opportunities', 'Pet Franchise': 'https://www.franchisebazar.com//industry/pet-franchise', 'Preschool Franchise': 'https://www.franchisebazar.com//industry/preschool-franchise', 'Real Estate Franchise': 'https://www.franchisebazar.com//industry/real-estate-franchise', 'Restaurant Franchise': 'https://www.franchisebazar.com//industry/restaurant-franchise', 'Retail Franchise': 'https://www.franchisebazar.com//industry/retail-franchise', 'Sports Franchise': 'https://www.franchisebazar.com//industry/sports-franchise-opportunities', 'Travel Franchise': 'https://www.franchisebazar.com//industry/travel-franchise-opportunities', 'Work From Home': 'https://www.franchisebazar.com//industry/work-from-home'}\n"
     ]
    }
   ],
   "source": [
    "import requests as r\n",
    "from bs4 import BeautifulSoup as bs\n",
    "\n",
    "url = 'https://www.franchisebazar.com/'\n",
    "response = r.get(url)\n",
    "\n",
    "soup = bs(response.content,'html.parser')\n",
    "cards = soup.find(\"ul\", class_=\"franchise-container open\")\n",
    "\n",
    "industry_links = cards.find_all('li')\n",
    "\n",
    "industries = {}\n",
    "for li in industry_links:\n",
    "    a_tag = li.find('a')\n",
    "    if a_tag:\n",
    "        link = a_tag['href']\n",
    "        industry = a_tag.get_text(strip=True)\n",
    "        industries[industry]=url+link\n",
    "\n",
    "print(industries)"
   ]
  },
  {
   "cell_type": "code",
   "execution_count": null,
   "id": "d2c69ca6-e38a-4300-beb2-64f462f9bd70",
   "metadata": {},
   "outputs": [],
   "source": []
  }
 ],
 "metadata": {
  "kernelspec": {
   "display_name": "Python 3 (ipykernel)",
   "language": "python",
   "name": "python3"
  },
  "language_info": {
   "codemirror_mode": {
    "name": "ipython",
    "version": 3
   },
   "file_extension": ".py",
   "mimetype": "text/x-python",
   "name": "python",
   "nbconvert_exporter": "python",
   "pygments_lexer": "ipython3",
   "version": "3.12.7"
  }
 },
 "nbformat": 4,
 "nbformat_minor": 5
}
